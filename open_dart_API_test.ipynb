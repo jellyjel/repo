{
  "nbformat": 4,
  "nbformat_minor": 0,
  "metadata": {
    "colab": {
      "name": "open dart_API test.ipynb",
      "provenance": [],
      "private_outputs": true,
      "collapsed_sections": [],
      "toc_visible": true,
      "machine_shape": "hm",
      "authorship_tag": "ABX9TyO/pm/0XTXnBGqhhn8nYVB3",
      "include_colab_link": true
    },
    "kernelspec": {
      "name": "python3",
      "display_name": "Python 3"
    },
    "accelerator": "GPU"
  },
  "cells": [
    {
      "cell_type": "markdown",
      "metadata": {
        "id": "view-in-github",
        "colab_type": "text"
      },
      "source": [
        "<a href=\"https://colab.research.google.com/github/jellyjel/woni.ai/blob/master/open_dart_API_test.ipynb\" target=\"_parent\"><img src=\"https://colab.research.google.com/assets/colab-badge.svg\" alt=\"Open In Colab\"/></a>"
      ]
    },
    {
      "cell_type": "code",
      "metadata": {
        "id": "hvs201Iee5Wi",
        "colab_type": "code",
        "colab": {}
      },
      "source": [
        "API_KEY= \"557c82734d5e89c39f1cb03d7aa3c616c00d1832\""
      ],
      "execution_count": 0,
      "outputs": []
    },
    {
      "cell_type": "code",
      "metadata": {
        "id": "gtJ9GHHcfWpv",
        "colab_type": "code",
        "colab": {}
      },
      "source": [
        "from urllib.request import urlopen\n",
        "import pandas as pd\n",
        "from bs4 import BeautifulSoup\n",
        "import webbrowser\n",
        "import requests"
      ],
      "execution_count": 0,
      "outputs": []
    },
    {
      "cell_type": "code",
      "metadata": {
        "id": "G7Bh42PJfW2x",
        "colab_type": "code",
        "colab": {}
      },
      "source": [
        "URL= \"https://opendart.fss.or.kr/api/fnlttSinglAcnt.json?crtfc_key=557c82734d5e89c39f1cb03d7aa3c616c00d1832&corp_code=00356370&bsns_year=2018&reprt_code=11011\""
      ],
      "execution_count": 0,
      "outputs": []
    },
    {
      "cell_type": "code",
      "metadata": {
        "id": "ijEEXsuSfW5Z",
        "colab_type": "code",
        "colab": {}
      },
      "source": [
        "sample = requests.get(URL)\n",
        "html = sample.text\n",
        "soup = BeautifulSoup(html, 'html.parser')\n",
        "\n",
        "#finance_html = soup.select('div.section.cop_analysis div.sub_section')[0]\n",
        "\n",
        "print(soup.prettify())"
      ],
      "execution_count": 0,
      "outputs": []
    },
    {
      "cell_type": "code",
      "metadata": {
        "id": "lR1MFfCJ6JVv",
        "colab_type": "code",
        "colab": {}
      },
      "source": [
        "!pip install pandas.json_normalize"
      ],
      "execution_count": 0,
      "outputs": []
    },
    {
      "cell_type": "code",
      "metadata": {
        "id": "OzT9kpiQ5XIP",
        "colab_type": "code",
        "colab": {}
      },
      "source": [
        "from pandas.io.json import json_normalize\n",
        "import json\n",
        "from pandas.io.json import json_normalize\n",
        "url_tmpl = 'http://dart.fss.or.kr/api/search.json?auth={API_KEY}'\n",
        "url = url_tmpl.format(API_KEY=API_KEY)\n",
        "r = requests.get(url)\n",
        "jo = json.loads(r.text)\n",
        "result = json_normalize(jo, 'list')\n",
        "result.head()"
      ],
      "execution_count": 0,
      "outputs": []
    },
    {
      "cell_type": "code",
      "metadata": {
        "id": "m8JaXC5km122",
        "colab_type": "code",
        "colab": {}
      },
      "source": [
        "URL2=\"https://opendart.fss.or.kr/api/document.xml\"\n",
        "API_KEY= \"557c82734d5e89c39f1cb03d7aa3c616c00d1832\"\n",
        "# 삼성전자 선택\n",
        "samsung = crp_list.find_by_name('삼성전자')[0]\n",
        "# 연간보고서 검색\n",
        "reports = samsung.search_report(start_dt='20100101', bsn_tp='a001')\n",
        "\n",
        "#위의 검색식과 아래 검색은 동일\n",
        "#reports = search_report(crp_cd='005930', start_dt='20100101', bsn_tp='a001')\n",
        "\n",
        "# Reports의 Index는 0부터 시작\n",
        "# 가장 최신 보고서 선택\n",
        "#newest_report = reports[0]\n",
        "\n",
        "# 0-4번 보고서 선택\n",
        "#zero_to_fourth_report = reports[0:5]\n",
        "\n",
        "# 짝수번째 보고서 선택\n",
        "#even_report = reports[::2]\n",
        "\n",
        "# 가장 오래된 보고서 선택\n",
        "#oldest_report = reports[-1]\n",
        "\n",
        "# 최종보고서만 필터링\n",
        "#filtered = reports.filter(fin_rpt=True)\n",
        "\n",
        "#페이지당 표시할 리포트 수 변경\n",
        "#reports.page_set = 100"
      ],
      "execution_count": 0,
      "outputs": []
    },
    {
      "cell_type": "code",
      "metadata": {
        "id": "z_R0N-92nl1k",
        "colab_type": "code",
        "colab": {}
      },
      "source": [
        "URL2=\"https://opendart.fss.or.kr/api/document.xml\"\n",
        "sample2 = requests.get(URL2)\n",
        "#html = sample.text\n",
        "#soup = BeautifulSoup(html, 'html.parser')"
      ],
      "execution_count": 0,
      "outputs": []
    },
    {
      "cell_type": "code",
      "metadata": {
        "id": "0GxoFiG7fW8q",
        "colab_type": "code",
        "colab": {}
      },
      "source": [
        "import pytest\n",
        "from dart_fss.fs_search import find_all_columns\n",
        "\n",
        "from .test_crp import crp_list\n",
        "from .test_case.crp_case import test_crp_list\n",
        "\n",
        "@pytest.mark.parametrize(\"crp\", test_crp_list)\n",
        "def test_crp_financial_statement(crp):\n",
        "    crp.run_test()\n",
        "\n",
        "\n",
        "@pytest.fixture(scope='session')\n",
        "def fs_report(crp_list):\n",
        "    skhynix = crp_list.find_by_name('하이닉스')[0]\n",
        "    return skhynix.get_financial_statement(start_dt='20180101')\n",
        "\n",
        "\n",
        "def test_fs_class_false(fs_report):\n",
        "    df = fs_report.show('fs', show_class=False)\n",
        "    columns = find_all_columns(df, 'class')\n",
        "    actual = len(columns)\n",
        "    expected = 0\n",
        "    assert actual == expected\n",
        "\n",
        "\n",
        "def test_fs_concept_false(fs_report):\n",
        "    df = fs_report.show('fs', show_concept=False)\n",
        "    columns = find_all_columns(df, 'concept')\n",
        "    actual = len(columns)\n",
        "    expected = 0\n",
        "    assert actual == expected\n",
        "\n",
        "\n",
        "def test_fs_show_depth(fs_report):\n",
        "    df = fs_report.show('fs', show_depth=1)\n",
        "    columns = find_all_columns(df, 'class')\n",
        "    actual = len(columns)\n",
        "    expected = 2\n",
        "    assert actual == expected\n",
        "\n",
        "\n",
        "def test_fs_to_dict(fs_report):\n",
        "    info = fs_report.to_dict()\n",
        "    actual = info['crp_cd']\n",
        "    expected = '000660'\n",
        "    assert  actual == expected\n",
        "\n",
        "\n",
        "def test_fs_to_save(fs_report):\n",
        "    import os\n",
        "    import tempfile\n",
        "    with tempfile.TemporaryDirectory() as path:\n",
        "        file_path = fs_report.save(path=path)\n",
        "        actual = os.path.isfile(file_path)\n",
        "    expected = True\n",
        "    assert actual == expected"
      ],
      "execution_count": 0,
      "outputs": []
    },
    {
      "cell_type": "code",
      "metadata": {
        "id": "jlPRSTwavU2O",
        "colab_type": "code",
        "colab": {}
      },
      "source": [
        "import pandas as pd\n",
        "import requests\n",
        "\n",
        "#다트 오픈 api 에서 회사고유번호 다운받기\n",
        "from requests import get  # to make GET request\n",
        "\n",
        "def download(url, file_name):\n",
        "    with open(file_name, \"wb\") as file:  \n",
        "        response = get(url)              \n",
        "        file.write(response.content)      \n",
        "\n",
        "if __name__ == '__main__':\n",
        "    url = \"https://opendart.fss.or.kr/api/corpCode.xml?crtfc_key=557c82734d5e89c39f1cb03d7aa3c616c00d1832\"\n",
        "    download(url,\"codes.zip\")\n",
        "\n"
      ],
      "execution_count": 0,
      "outputs": []
    },
    {
      "cell_type": "code",
      "metadata": {
        "id": "6ABZTNzQ8tHu",
        "colab_type": "code",
        "colab": {}
      },
      "source": [
        "URL3= \"https://opendart.fss.or.kr/api/company.json?crtfc_key=557c82734d5e89c39f1cb03d7aa3c616c00d1832&corp_code=00356370\"\n",
        "sample3 = requests.get(URL3)\n",
        "html = sample3.text\n",
        "soup = BeautifulSoup(html, 'html.parser')"
      ],
      "execution_count": 0,
      "outputs": []
    },
    {
      "cell_type": "code",
      "metadata": {
        "id": "0vHeLOQu9G0y",
        "colab_type": "code",
        "colab": {}
      },
      "source": [
        "print(soup.prettify())"
      ],
      "execution_count": 0,
      "outputs": []
    }
  ]
}