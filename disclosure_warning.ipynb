{
  "nbformat": 4,
  "nbformat_minor": 0,
  "metadata": {
    "colab": {
      "name": "disclosure- warning.ipynb",
      "provenance": [],
      "private_outputs": true,
      "collapsed_sections": [],
      "mount_file_id": "1q2sPhRg9ODAPS7c3ryzKC7IOX4o4TyFA",
      "authorship_tag": "ABX9TyM1C9wfTMrbyq6pe6lT5zsK",
      "include_colab_link": true
    },
    "kernelspec": {
      "name": "python3",
      "display_name": "Python 3"
    }
  },
  "cells": [
    {
      "cell_type": "markdown",
      "metadata": {
        "id": "view-in-github",
        "colab_type": "text"
      },
      "source": [
        "<a href=\"https://colab.research.google.com/github/jellyjel/woni.ai/blob/master/disclosure_warning.ipynb\" target=\"_parent\"><img src=\"https://colab.research.google.com/assets/colab-badge.svg\" alt=\"Open In Colab\"/></a>"
      ]
    },
    {
      "cell_type": "markdown",
      "metadata": {
        "id": "UP99dnpD6yPY",
        "colab_type": "text"
      },
      "source": [
        "투자주의/투자경고/투자위험 지정예고종목 등"
      ]
    },
    {
      "cell_type": "code",
      "metadata": {
        "id": "1gbh1Dk2DefC",
        "colab_type": "code",
        "colab": {}
      },
      "source": [
        "import requests\n",
        "from bs4 import BeautifulSoup\n",
        "import pandas as pd\n",
        "import re\n",
        " \n",
        "# 1) reqeusts 라이브러리로 HTML 페이지 요청 \n",
        "# 1-1) response.content로 데이터를 추출\n",
        "\n",
        "headers = {\n",
        "    'Connection': 'keep-alive',\n",
        "    'Accept': 'text/html, */*; q=0.01',\n",
        "    'Content-Type': 'application/x-www-form-urlencoded; charset=UTF-8',\n",
        "    'Accept-Encoding': 'gzip, deflate',\n",
        "    'Accept-Language': 'en-US,en;q=0.9',\n",
        "}\n",
        " \n",
        "data = {\n",
        "  'method': 'searchDetailsSub',\n",
        "  'currentPageSize': '100',\n",
        "  'pageIndex': '1',\n",
        "  'orderMode': '1',\n",
        "  'orderStat': 'D',\n",
        "  'forward': 'details_sub',\n",
        "  'disclosureType01': '',\n",
        "  'disclosureType02': '0342|0343|0341|',\n",
        "  'disclosureType03': '',\n",
        "  'disclosureType04': '',\n",
        "  'disclosureType05': '',\n",
        "  'disclosureType06': '',\n",
        "  'disclosureType07': '',\n",
        "  'disclosureType08': '',\n",
        "  'disclosureType09': '',\n",
        "  'disclosureType10': '',\n",
        "  'disclosureType11': '',\n",
        "  'disclosureType13': '',\n",
        "  'disclosureType14': '',\n",
        "  'disclosureType20': '',\n",
        "  'pDisclosureType01': '',\n",
        "  'pDisclosureType02': '0342|0343|0341|',\n",
        "  'pDisclosureType03': '',\n",
        "  'pDisclosureType04': '',\n",
        "  'pDisclosureType05': '',\n",
        "  'pDisclosureType06': '',\n",
        "  'pDisclosureType07': '',\n",
        "  'pDisclosureType08': '',\n",
        "  'pDisclosureType09': '',\n",
        "  'pDisclosureType10': '',\n",
        "  'pDisclosureType11': '',\n",
        "  'pDisclosureType13': '',\n",
        "  'pDisclosureType14': '',\n",
        "  'pDisclosureType20': '',\n",
        "  'searchCodeType': '',\n",
        "  'repIsuSrtCd': '',\n",
        "  'allRepIsuSrtCd': '',\n",
        "  'oldSearchCorpName': '',\n",
        "  'disclosureType': '',\n",
        "  'disTypevalue': '',\n",
        "  'reportNm': '지정예고',\n",
        "  'reportCd': '',\n",
        "  'searchCorpName': '',\n",
        "  'business': '',\n",
        "  'marketType': '',\n",
        "  'settlementMonth': '',\n",
        "  'securities': '',\n",
        "  'submitOblgNm': '',\n",
        "  'enterprise': '',\n",
        "  'fromDate': '2020-01-17',\n",
        "  'toDate': '2020-02-17',\n",
        "  'reportNmTemp': '',\n",
        "  'reportNmPop': '',\n",
        "  'disclosureTypeArr02': '0342',\n",
        "  'disclosureTypeArr02': '0343',\n",
        "  'disclosureTypeArr02': '0341',\n",
        "  'bfrDsclsType': 'on'\n",
        "}\n",
        " \n",
        "response = requests.post('http://kind.krx.co.kr/disclosure/details.do', headers=headers, data=data, verify=False)"
      ],
      "execution_count": 0,
      "outputs": []
    },
    {
      "cell_type": "code",
      "metadata": {
        "id": "Y8YSMQMhDoBL",
        "colab_type": "code",
        "colab": {}
      },
      "source": [
        "print(response.text[:100]) # 앞부분만 출력"
      ],
      "execution_count": 0,
      "outputs": []
    },
    {
      "cell_type": "code",
      "metadata": {
        "colab_type": "code",
        "id": "3pQuRDZoRH9J",
        "colab": {}
      },
      "source": [
        "# 2) HTML 페이지 파싱 BeautifulSoup(HTML데이터, 파싱방법)\n",
        "# 2-1) BeautifulSoup 파싱방법\n",
        "soup = BeautifulSoup(response.content, 'html.parser')\n",
        " \n",
        "# 3) 필요한 데이터 검색\n",
        "#alert = soup.find(id=\"main-contents\")\n",
        "# 4) 필요한 데이터 추출\n",
        "\n",
        "stock_idx= soup.select('.txc')\n",
        "stock_idx[:5]"
      ],
      "execution_count": 0,
      "outputs": []
    },
    {
      "cell_type": "markdown",
      "metadata": {
        "id": "DR6-Ba03wRMG",
        "colab_type": "text"
      },
      "source": [
        "**인덱스와 지정예정일 뽑기**"
      ]
    },
    {
      "cell_type": "code",
      "metadata": {
        "id": "esQbA9xvcn2K",
        "colab_type": "code",
        "colab": {}
      },
      "source": [
        "date = soup.select(\".txc\")\n",
        "date_text = [item.get_text().strip() for item in date ]\n",
        "len(date_text)\n",
        "c1 = []\n",
        "c2 = []\n",
        "\n",
        "for idx, val in enumerate(date_text):\n",
        "   # print(idx, val)\n",
        "    if (int(idx) % 3 == 0):\n",
        "      c1.append(val)\n",
        "    elif(int(idx) % 3 == 1):\n",
        "      c2.append(val)\n",
        "    else:\n",
        "      continue\n",
        "\n",
        "df = pd.DataFrame({'index':c1,'time':c2})\n",
        "df"
      ],
      "execution_count": 0,
      "outputs": []
    },
    {
      "cell_type": "code",
      "metadata": {
        "id": "Szc7fPz_h8do",
        "colab_type": "code",
        "colab": {}
      },
      "source": [
        "elements = soup.find_all('a')\n",
        "elements[:5]"
      ],
      "execution_count": 0,
      "outputs": []
    },
    {
      "cell_type": "markdown",
      "metadata": {
        "id": "z4F3UZHHwRFn",
        "colab_type": "text"
      },
      "source": [
        "**종목코드**"
      ]
    },
    {
      "cell_type": "markdown",
      "metadata": {
        "id": "1vRo9CWGEzKB",
        "colab_type": "text"
      },
      "source": [
        "https://stackoverflow.com/questions/23380171/using-beautifulsoup-to-extract-text-without-tags"
      ]
    },
    {
      "cell_type": "code",
      "metadata": {
        "id": "JPaxhFWiuFW1",
        "colab_type": "code",
        "colab": {}
      },
      "source": [
        "# Find all <a> elements\n",
        "elements = soup.find_all('a')\n",
        "code=[]\n",
        "# Loop over all found elements\n",
        "for element in elements:\n",
        "    # Disregard element if it doesn't contain onclick attribute\n",
        "    if 'onclick' not in element.attrs:\n",
        "        continue\n",
        "    # Get attribute value\n",
        "    value = element['onclick']\n",
        "    # Disregard wrong elements\n",
        "    if not value.startswith('openDisclsChart('):\n",
        "        continue\n",
        "    # Extract position of opening bracket\n",
        "    position = value.index('(') + 1\n",
        "    # Slice string so only content inside bracket is left\n",
        "    value = value[position:-15]\n",
        "    code.append(value)\n",
        "    # Print result\n",
        "    print(value)\n"
      ],
      "execution_count": 0,
      "outputs": []
    },
    {
      "cell_type": "code",
      "metadata": {
        "id": "ahUTUKHYiVyu",
        "colab_type": "code",
        "colab": {}
      },
      "source": [
        "len(code)"
      ],
      "execution_count": 0,
      "outputs": []
    },
    {
      "cell_type": "code",
      "metadata": {
        "id": "tKr30Uim5dH-",
        "colab_type": "code",
        "colab": {}
      },
      "source": [
        "# Find all <a> elements\n",
        "elements = soup.find_all('a')\n",
        "\n",
        "# Loop over all found elements\n",
        "for element in elements:\n",
        "    # Disregard element if it doesn't contain onclick attribute\n",
        "    if ' title' not in element.attrs:\n",
        "        continue\n",
        "    # Get attribute value\n",
        "    value = element[' title']\n",
        "    # Disregard wrong elements\n",
        "    # Extract position of opening bracket\n",
        "    position = value.index('\"') + 1\n",
        "    # Slice string so only content inside bracket is left\n",
        "    value = value[position:-1]\n",
        "    # Print result\n",
        "    print(value)"
      ],
      "execution_count": 0,
      "outputs": []
    },
    {
      "cell_type": "code",
      "metadata": {
        "id": "jUQxY_tquEsA",
        "colab_type": "code",
        "colab": {}
      },
      "source": [
        "<img src=\"/images/common/icn_t_yu.gif\" class=\"vmiddle legend\" alt=\"유가증권\">"
      ],
      "execution_count": 0,
      "outputs": []
    },
    {
      "cell_type": "code",
      "metadata": {
        "id": "MiBJFbiqZfCU",
        "colab_type": "code",
        "colab": {}
      },
      "source": [
        "stock_title = [item.get_text().strip() for item in elements]\n",
        "#name = stock_name[7:13]\n",
        "stock_title\n",
        "c1 = []\n",
        "c2 = []\n",
        "\n",
        "for idx, val in enumerate(stock_title):\n",
        "   # print(idx, val)\n",
        "    if (int(idx) % 4 == 0):\n",
        "      c1.append(val)\n",
        "    elif(int(idx) % 4 == 1):\n",
        "      c2.append(val)\n",
        "    else:\n",
        "      continue\n",
        "\n",
        "#노이즈/특수기호 제거\n",
        "df2 = pd.DataFrame({'stockname':c1[:-2],'code':code,'title':c2[:-2]})\n",
        "df2['code'] = df2['code'].str.replace(pat=r'[^A-Za-z0-9]', repl= r' ', regex=True)\n",
        "\n",
        "dis_warning_df= df.join(df2)\n",
        "dis_warning_df.head\n",
        "dis_warning_df.to_csv('시장조치 공시예고'+ '.csv', index=False)"
      ],
      "execution_count": 0,
      "outputs": []
    },
    {
      "cell_type": "code",
      "metadata": {
        "id": "L5ShwBzyARkN",
        "colab_type": "code",
        "colab": {}
      },
      "source": [
        "def create_custom_table(stocks, links):\n",
        "  table = []\n",
        "  for idx, item in enumerate(stocks):\n",
        "    stocks = \n"
      ],
      "execution_count": 0,
      "outputs": []
    }
  ]
}